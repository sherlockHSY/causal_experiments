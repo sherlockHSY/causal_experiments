{
 "cells": [
  {
   "cell_type": "code",
   "execution_count": 1,
   "metadata": {
    "collapsed": false
   },
   "outputs": [
    {
     "name": "stdout",
     "output_type": "stream",
     "text": [
      "Artificial data is generated and saved as /tmp/tmppm6t2c17.csv\n",
      "---- Algorithm parameters ----\n",
      "Number of MC samples: 10000\n",
      "Number of candidate models: 450\n",
      "\n",
      "---- Data ----\n",
      "Data loaded from /tmp/tmppm6t2c17.csv.\n",
      "Data contains 100 samples.\n",
      "Variable names: ['x1_dst' 'x2_src']\n",
      "\n",
      "---- Inference for variables \"x1_dst\" and \"x2_src\" ----\n",
      "Inferred  : x1_dst -> x2_src (posterior prob: 0.189, loglikelihood: -256.786)\n",
      "(best_rev): x2_src -> x1_dst (posterior prob: 0.043, loglikelihood: -258.258)\n",
      "\n",
      "Hyper parameters of the optimal model:\n",
      "Causality      : var1 -> var2\n",
      "Standardize    : True\n",
      "subtract_mu_reg: False\n",
      "fix_mu_zero    : True\n",
      "prior_var_mu   : auto\n",
      "prior_indvdl   : t\n",
      "v_indvdl_1     : 0.200000\n",
      "v_indvdl_2     : 0.200000\n",
      "df_indvdl      : 8.000000\n",
      "L_cov12/21     : -0.900000\n",
      "dist_noise     : laplace\n",
      "\n",
      "Hyper parameters of the reverse optimal model:\n",
      "Causality      : var2 -> var1\n",
      "Standardize    : True\n",
      "subtract_mu_reg: False\n",
      "fix_mu_zero    : True\n",
      "prior_var_mu   : auto\n",
      "prior_indvdl   : t\n",
      "v_indvdl_1     : 0.200000\n",
      "v_indvdl_2     : 0.200000\n",
      "df_indvdl      : 8.000000\n",
      "L_cov12/21     : 0.700000\n",
      "dist_noise     : laplace\n",
      "\n"
     ]
    }
   ],
   "source": [
    "%matplotlib inline\n",
    "import os, sys\n",
    "sys.path.append(os.path.expanduser('~/work/git/cjs/bmlingam/'))\n",
    "sys.path.append(os.path.expanduser('~/work/git/github/pymc-devs/pymc3/'))\n",
    "\n",
    "from bmlingam.tests.test_infer_causality import test_infer_causality\n",
    "\n",
    "test_infer_causality()"
   ]
  },
  {
   "cell_type": "code",
   "execution_count": null,
   "metadata": {
    "collapsed": true
   },
   "outputs": [],
   "source": []
  }
 ],
 "metadata": {
  "kernelspec": {
   "display_name": "Python 3",
   "language": "python",
   "name": "python3"
  },
  "language_info": {
   "codemirror_mode": {
    "name": "ipython",
    "version": 3
   },
   "file_extension": ".py",
   "mimetype": "text/x-python",
   "name": "python",
   "nbconvert_exporter": "python",
   "pygments_lexer": "ipython3",
   "version": "3.5.1"
  },
  "nav_menu": {},
  "toc": {
   "navigate_menu": true,
   "number_sections": true,
   "sideBar": true,
   "threshold": 6,
   "toc_cell": false,
   "toc_section_display": "block",
   "toc_window_display": true
  },
  "widgets": {
   "state": {},
   "version": "1.1.1"
  }
 },
 "nbformat": 4,
 "nbformat_minor": 0
}
