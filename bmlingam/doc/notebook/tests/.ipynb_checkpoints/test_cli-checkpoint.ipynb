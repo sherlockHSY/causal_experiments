{
 "cells": [
  {
   "cell_type": "code",
   "execution_count": 2,
   "metadata": {
    "collapsed": false
   },
   "outputs": [
    {
     "data": {
      "application/javascript": [
       "IPython.notebook.set_autosave_interval(0)"
      ]
     },
     "metadata": {},
     "output_type": "display_data"
    },
    {
     "name": "stdout",
     "output_type": "stream",
     "text": [
      "Autosave disabled\n",
      "Temporary files for test_cli()\n",
      "data_file: /tmp/tmp_mxm6nlz\n",
      "model_file: /tmp/tmptoxmvoxd\n",
      "\n",
      "Made artificial data and saved as /tmp/tmp_mxm6nlz.\n",
      "---- Algorithm parameters ----\n",
      "Number of MC samples: 100\n",
      "Number of candidate models: 1800\n",
      "\n",
      "---- Data ----\n",
      "Data loaded from /tmp/tmp_mxm6nlz.\n",
      "Data contains 100 samples.\n",
      "Variable names: ['x1_dst' 'x2_src']\n",
      "\n",
      "---- Inference for variables \"x1_dst\" and \"x2_src\" ----\n",
      "Inferred  : x2_src -> x1_dst (posterior prob: 0.711, loglikelihood: -268.213)\n",
      "(best_rev): x1_dst -> x2_src (posterior prob: 0.015, loglikelihood: -272.078)\n",
      "\n",
      "Hyper parameters of the optimal model:\n",
      "Causality      : var2 -> var1\n",
      "Standardize    : True\n",
      "subtract_mu_reg: False\n",
      "fix_mu_zero    : True\n",
      "prior_var_mu   : auto\n",
      "prior_indvdl   : t\n",
      "v_indvdl_1     : 0.000000\n",
      "v_indvdl_2     : 0.200000\n",
      "df_indvdl      : 8.000000\n",
      "L_cov12/21     : 0.300000\n",
      "dist_noise     : gg\n",
      "beta_noise     : 0.750000\n",
      "\n",
      "Hyper parameters of the reverse optimal model:\n",
      "Causality      : var1 -> var2\n",
      "Standardize    : True\n",
      "subtract_mu_reg: False\n",
      "fix_mu_zero    : True\n",
      "prior_var_mu   : auto\n",
      "prior_indvdl   : t\n",
      "v_indvdl_1     : 0.200000\n",
      "v_indvdl_2     : 0.000000\n",
      "df_indvdl      : 8.000000\n",
      "L_cov12/21     : -0.500000\n",
      "dist_noise     : gg\n",
      "beta_noise     : 0.750000\n",
      "\n",
      "Optimal model was saved as /tmp/tmptoxmvoxd.\n",
      "/tmp/tmptoxmvoxd\n",
      "---- Variables x1_dst and x2_src ----\n",
      "Inferred causality   : x2_src -> x1_dst\n",
      "Posterior mean       : 0.707533\n",
      "95% Credible interval: (0.336794, 1.069183)\n",
      "\n",
      "True True\n"
     ]
    },
    {
     "data": {
      "image/png": "[encoded data removed]",
      "text/plain": [
       "<matplotlib.figure.Figure at 0x7fd5a4e67c18>"
      ]
     },
     "metadata": {},
     "output_type": "display_data"
    },
    {
     "name": "stdout",
     "output_type": "stream",
     "text": [
      "Posterior samples was saved as /tmp/tmptoxmvoxd.\n"
     ]
    }
   ],
   "source": [
    "%autosave 0\n",
    "%matplotlib inline\n",
    "import os, sys\n",
    "sys.path.insert(0, os.path.expanduser('~/work/Dropbox/tmp/20160929-bml-github'))\n",
    "sys.path.insert(0, os.path.expanduser('~/work/git/github/pymc-devs/pymc3'))\n",
    "\n",
    "from bmlingam.tests.test_cli import test_cli\n",
    "\n",
    "test_cli(plot=True)"
   ]
  },
  {
   "cell_type": "code",
   "execution_count": null,
   "metadata": {
    "collapsed": true
   },
   "outputs": [],
   "source": []
  }
 ],
 "metadata": {
  "kernelspec": {
   "display_name": "Python 3",
   "language": "python",
   "name": "python3"
  },
  "language_info": {
   "codemirror_mode": {
    "name": "ipython",
    "version": 3
   },
   "file_extension": ".py",
   "mimetype": "text/x-python",
   "name": "python",
   "nbconvert_exporter": "python",
   "pygments_lexer": "ipython3",
   "version": "3.5.1"
  },
  "nav_menu": {},
  "toc": {
   "navigate_menu": true,
   "number_sections": true,
   "sideBar": true,
   "threshold": 6,
   "toc_cell": false,
   "toc_section_display": "block",
   "toc_window_display": true
  },
  "widgets": {
   "state": {},
   "version": "1.1.1"
  }
 },
 "nbformat": 4,
 "nbformat_minor": 0
}
