{
 "cells": [
  {
   "cell_type": "markdown",
   "metadata": {},
   "source": [
    "# 因果の効果が小さい場合のベイズファクター\n",
    "このノートブックでは, 回帰係数が一様分布U(-1.5, 1.5)から生成される場合に, ベイズファクターによって因果の効果が小さい場合を判断できるかどうかを確認します. "
   ]
  },
  {
   "cell_type": "code",
   "execution_count": 1,
   "metadata": {
    "collapsed": false
   },
   "outputs": [
    {
     "data": {
      "application/javascript": [
       "IPython.notebook.set_autosave_interval(0)"
      ]
     },
     "metadata": {},
     "output_type": "display_data"
    },
    {
     "name": "stdout",
     "output_type": "stream",
     "text": [
      "Autosave disabled\n"
     ]
    }
   ],
   "source": [
    "%matplotlib inline\n",
    "%autosave 0\n",
    "import sys, os\n",
    "sys.path.insert(0, os.path.expanduser('~/work/tmp/20160915-bmlingam/bmlingam'))\n",
    "\n",
    "from copy import deepcopy\n",
    "import hashlib\n",
    "import matplotlib.pyplot as plt\n",
    "import numpy as np\n",
    "import pandas as pd\n",
    "import seaborn as sns\n",
    "import time\n",
    "\n",
    "from bmlingam import do_mcmc_bmlingam, InferParams, MCMCParams, save_pklz, load_pklz, define_hparam_searchspace, find_best_model\n",
    "from bmlingam.utils.gendata import GenDataParams, gen_artificial_data"
   ]
  },
  {
   "cell_type": "markdown",
   "metadata": {},
   "source": [
    "## 実験条件\n",
    "実験条件は以下の通りです. \n",
    "\n",
    "* 人工データパラメータ\n",
    "\n",
    "    * サンプル数 (`n_samples`): `[100]`\n",
    "    * 総ノイズスケール: $c=0.5, 1.0$. \n",
    "    * 交絡因子のスケール: $c/\\sqrt{Q}$\n",
    "    * データ観測ノイズ分布 (`data_noise_type`): `['laplace', 'uniform']`\n",
    "    * 交絡因子数 (`n_confs` or $Q$): `[10]`\n",
    "    * 観測データノイズスケール: 3に固定\n",
    "    * 回帰係数の分布 `uniform(-1.5, 1.5)`\n",
    "\n",
    "* 推定ハイパーパラメータ\n",
    "\n",
    "    * 交絡因子相関係数 (`L_cov_21s`): `[[-.9, -.7, -.5, -.3, 0, .3, .5, .7, .9]]`\n",
    "    * モデル観測ノイズ分布 (`model_noise_type`): `['gg']`"
   ]
  },
  {
   "cell_type": "code",
   "execution_count": 2,
   "metadata": {
    "collapsed": false
   },
   "outputs": [
    {
     "name": "stdout",
     "output_type": "stream",
     "text": [
      "4 conditions\n"
     ]
    }
   ],
   "source": [
    "conds = [\n",
    "        {\n",
    "            'totalnoise': totalnoise, \n",
    "            'L_cov_21s': L_cov_21s, \n",
    "            'n_samples': n_samples, \n",
    "            'n_confs': n_confs, \n",
    "            'data_noise_type': data_noise_type, \n",
    "            'model_noise_type': model_noise_type, \n",
    "            'b21_dist': b21_dist\n",
    "        }\n",
    "        for totalnoise in [0.5, 1.0]\n",
    "        for L_cov_21s in [[-.9, -.7, -.5, -.3, 0, .3, .5, .7, .9]]\n",
    "        for n_samples in [100]\n",
    "        for n_confs in [10] # [1, 3, 5, 10]\n",
    "        for data_noise_type in ['laplace', 'uniform']\n",
    "        for model_noise_type in ['gg']\n",
    "        for b21_dist in ['uniform(-1.5, 1.5)']\n",
    "    ]\n",
    "\n",
    "print('{} conditions'.format(len(conds)))"
   ]
  },
  {
   "cell_type": "markdown",
   "metadata": {},
   "source": [
    "### 人工データの生成\n",
    "実験条件に基づいて人工データを生成する関数を定義します. "
   ]
  },
  {
   "cell_type": "code",
   "execution_count": 3,
   "metadata": {
    "collapsed": true
   },
   "outputs": [],
   "source": [
    "def gen_artificial_data_given_cond(ix_trial, cond):\n",
    "    # 実験条件に基づく人工データ生成パラメータの設定\n",
    "    n_confs = cond['n_confs']\n",
    "    gen_data_params = deepcopy(gen_data_params_default)\n",
    "    gen_data_params.n_samples = cond['n_samples']\n",
    "    gen_data_params.conf_dist = [['all'] for _ in range(n_confs)]\n",
    "    gen_data_params.e1_dist = [cond['data_noise_type']]\n",
    "    gen_data_params.e2_dist = [cond['data_noise_type']]\n",
    "    gen_data_params.b21_dist = cond['b21_dist']\n",
    "\n",
    "    noise_scale = cond['totalnoise'] / np.sqrt(n_confs)\n",
    "    gen_data_params.f1_coef = [noise_scale for _ in range(n_confs)]\n",
    "    gen_data_params.f2_coef = [noise_scale for _ in range(n_confs)]\n",
    "\n",
    "    # 人工データ生成\n",
    "    gen_data_params.seed = ix_trial\n",
    "    data = gen_artificial_data(gen_data_params)\n",
    "    \n",
    "    return data\n",
    "\n",
    "# 人工データ生成パラメータの基準値\n",
    "gen_data_params_default = GenDataParams(\n",
    "    n_samples=100, \n",
    "    b21_dist='r2intervals', \n",
    "    mu1_dist='randn', \n",
    "    mu2_dist='randn', \n",
    "    f1_scale=1.0, \n",
    "    f2_scale=1.0, \n",
    "    f1_coef=['r2intervals', 'r2intervals', 'r2intervals'], \n",
    "    f2_coef=['r2intervals', 'r2intervals', 'r2intervals'], \n",
    "    conf_dist=[['all'], ['all'], ['all']], \n",
    "    e1_std=3.0, \n",
    "    e2_std=3.0, \n",
    "    e1_dist=['laplace'], \n",
    "    e2_dist=['laplace'],\n",
    "    seed=0\n",
    ")"
   ]
  },
  {
   "cell_type": "markdown",
   "metadata": {},
   "source": [
    "実行例です. "
   ]
  },
  {
   "cell_type": "code",
   "execution_count": 4,
   "metadata": {
    "collapsed": false
   },
   "outputs": [
    {
     "data": {
      "text/plain": [
       "<matplotlib.collections.PathCollection at 0x7f18299a3828>"
      ]
     },
     "execution_count": 4,
     "metadata": {},
     "output_type": "execute_result"
    },
    {
     "data": {
      "image/png": "[encoded data removed]",
      "text/plain": [
       "<matplotlib.figure.Figure at 0x7f183eabc438>"
      ]
     },
     "metadata": {},
     "output_type": "display_data"
    }
   ],
   "source": [
    "data = gen_artificial_data_given_cond(0, conds[0])\n",
    "xs = data['xs']\n",
    "plt.figure(figsize=(3, 3))\n",
    "plt.scatter(xs[:, 0], xs[:, 1])"
   ]
  },
  {
   "cell_type": "code",
   "execution_count": 5,
   "metadata": {
    "collapsed": false
   },
   "outputs": [
    {
     "data": {
      "text/plain": [
       "<matplotlib.collections.PathCollection at 0x7f18260d2160>"
      ]
     },
     "execution_count": 5,
     "metadata": {},
     "output_type": "execute_result"
    },
    {
     "data": {
      "image/png": "[encoded data removed]",
      "text/plain": [
       "<matplotlib.figure.Figure at 0x7f18299debe0>"
      ]
     },
     "metadata": {},
     "output_type": "display_data"
    }
   ],
   "source": [
    "data = gen_artificial_data_given_cond(0, \n",
    "    {\n",
    "        'totalnoise': 3 * np.sqrt(1), \n",
    "        'n_samples': 10000, \n",
    "        'n_confs': 1, \n",
    "        'data_noise_type': 'laplace',\n",
    "        'b21_dist': 'uniform(-1.5, 1.5)'\n",
    "    }\n",
    ")\n",
    "xs = data['xs']\n",
    "plt.figure(figsize=(3, 3))\n",
    "plt.scatter(xs[:, 0], xs[:, 1])"
   ]
  },
  {
   "cell_type": "markdown",
   "metadata": {},
   "source": [
    "### トライアルの定義\n",
    "トライアルとは, 生成された1つの人工データに対する因果推論と精度評価の処理を指します. \n",
    "\n",
    "一つの実験条件に対し, トライアルを100回実行します. "
   ]
  },
  {
   "cell_type": "code",
   "execution_count": 6,
   "metadata": {
    "collapsed": true
   },
   "outputs": [],
   "source": [
    "n_trials_per_cond = 100"
   ]
  },
  {
   "cell_type": "markdown",
   "metadata": {},
   "source": [
    "### 実験条件パラメータの基準値"
   ]
  },
  {
   "cell_type": "code",
   "execution_count": 7,
   "metadata": {
    "collapsed": false
   },
   "outputs": [],
   "source": [
    "# 因果推論パラメータ\n",
    "infer_params = InferParams(\n",
    "    seed=0, \n",
    "    standardize=True, \n",
    "    subtract_mu_reg=False, \n",
    "    fix_mu_zero=True, \n",
    "    prior_var_mu='auto', \n",
    "    prior_scale='uniform', \n",
    "    max_c=1.0, \n",
    "    n_mc_samples=10000, \n",
    "    dist_noise='laplace', \n",
    "    df_indvdl=8.0, \n",
    "    prior_indvdls=['t'], \n",
    "    cs=[0.4, 0.6, 0.8],\n",
    "    scale_coeff=2. / 3., \n",
    "    L_cov_21s=[-0.8, -0.6, -0.4, 0.4, 0.6, 0.8], \n",
    "    betas_indvdl=None, # [0.25, 0.5, 0.75, 1.], \n",
    "    betas_noise=[0.25, 0.5, 1.0, 3.0], \n",
    "    causalities=[[1, 2], [2, 1]], \n",
    "    sampling_mode='cache_mp4'\n",
    ")\n",
    "\n",
    "# 回帰係数推定パラメータ\n",
    "mcmc_params = MCMCParams(\n",
    "    n_burn=1000, \n",
    "    n_mcmc_samples=1000\n",
    ")"
   ]
  },
  {
   "cell_type": "markdown",
   "metadata": {},
   "source": [
    "## プログラム"
   ]
  },
  {
   "cell_type": "markdown",
   "metadata": {},
   "source": [
    "### トライアル識別子の生成\n",
    "以下の情報からトライアルに対する識別子を生成します. \n",
    "\n",
    "* トライアルインデックス (`ix_trial`)\n",
    "* サンプル数 (`n_samples`)\n",
    "* 交絡因子数 (`n_confs`)\n",
    "* 人工データ観測ノイズの種類 (`data_noise_type`)\n",
    "* 予測モデル観測ノイズの種類 (`model_noise_type`)\n",
    "* 交絡因子相関係数 (`L_cov_21s`)\n",
    "* 総ノイズスケール (`totalnoise`)\n",
    "* 回帰係数分布 (`b21_dist`)\n",
    "\n",
    "トライアル識別子は推定結果をデータフレームに格納するときに使用されます. "
   ]
  },
  {
   "cell_type": "code",
   "execution_count": 8,
   "metadata": {
    "collapsed": false
   },
   "outputs": [
    {
     "name": "stdout",
     "output_type": "stream",
     "text": [
      "d26da9a587adc5cfd064ab8cb23940d2\n",
      "d26da9a587adc5cfd064ab8cb23940d2\n"
     ]
    }
   ],
   "source": [
    "def make_id(ix_trial, n_samples, n_confs, data_noise_type, model_noise_type, L_cov_21s, totalnoise, b21_dist):\n",
    "    L_cov_21s_ = ' '.join([str(v) for v in L_cov_21s])\n",
    "    \n",
    "    return hashlib.md5(\n",
    "        str((L_cov_21s_, ix_trial, n_samples, n_confs, data_noise_type, model_noise_type, totalnoise, b21_dist.replace(' ', ''))).encode('utf-8')\n",
    "    ).hexdigest()\n",
    "\n",
    "# テスト\n",
    "print(make_id(55, 100, 12, 'all', 'gg', [1, 2, 3], 0.3, 'uniform(-1.5, 1.5)'))\n",
    "print(make_id(55, 100, 12, 'all', 'gg', [1, 2, 3], 0.3, 'uniform(-1.5,    1.5)')) # 空白を無視します"
   ]
  },
  {
   "cell_type": "markdown",
   "metadata": {},
   "source": [
    "### トライアル結果のデータフレームへの追加\n",
    "* トライアル結果をデータフレームに追加します. \n",
    "* 引数`df`が`None`の場合, 新たにデータフレームを作成します. "
   ]
  },
  {
   "cell_type": "code",
   "execution_count": 9,
   "metadata": {
    "collapsed": false
   },
   "outputs": [
    {
     "name": "stdout",
     "output_type": "stream",
     "text": [
      "--- df1 ---\n",
      "   col1  col2\n",
      "0    10    20\n",
      "--- df2 ---\n",
      "   col1  col2\n",
      "0    10    20\n",
      "1    30   -10\n"
     ]
    }
   ],
   "source": [
    "def add_result_to_df(df, result):\n",
    "    if df is None:\n",
    "        return pd.DataFrame({k: [v] for k, v in result.items()})\n",
    "    else:\n",
    "        return df.append(result, ignore_index=True)\n",
    "\n",
    "# テスト\n",
    "result1 = {'col1': 10, 'col2': 20}\n",
    "result2 = {'col1': 30, 'col2': -10}\n",
    "df1 = add_result_to_df(None, result1)\n",
    "print('--- df1 ---')\n",
    "print(df1)\n",
    "df2 = add_result_to_df(df1, result2)\n",
    "print('--- df2 ---')\n",
    "print(df2)"
   ]
  },
  {
   "cell_type": "markdown",
   "metadata": {},
   "source": [
    "### データフレーム内のトライアル識別子の確認\n",
    "* 計算済みの結果に対して再計算しないために使用します. "
   ]
  },
  {
   "cell_type": "code",
   "execution_count": 10,
   "metadata": {
    "collapsed": true
   },
   "outputs": [],
   "source": [
    "def df_exist_result_id(df, result_id):\n",
    "    if df is not None:\n",
    "        return result_id in np.array(df['result_id'])\n",
    "    else:\n",
    "        False"
   ]
  },
  {
   "cell_type": "markdown",
   "metadata": {},
   "source": [
    "### データフレームの取得\n",
    "* データフレームをセーブ・ロードする関数を定義します. \n",
    "* ファイルが存在しなければ`None`を返します. "
   ]
  },
  {
   "cell_type": "code",
   "execution_count": 11,
   "metadata": {
    "collapsed": true
   },
   "outputs": [],
   "source": [
    "def load_df(df_file):\n",
    "    if os.path.exists(df_file):\n",
    "        return load_pklz(df_file)\n",
    "    else:\n",
    "        return None\n",
    "\n",
    "def save_df(df_file, df):\n",
    "    save_pklz(df_file, df)"
   ]
  },
  {
   "cell_type": "markdown",
   "metadata": {},
   "source": [
    "### トライアル実行\n",
    "トライアルインデックスと実験条件を引数としてトライアルを実行し, 推定結果を返します. "
   ]
  },
  {
   "cell_type": "code",
   "execution_count": 12,
   "metadata": {
    "collapsed": true
   },
   "outputs": [],
   "source": [
    "def _estimate_hparams(xs, infer_params):\n",
    "    assert(type(infer_params) == InferParams)\n",
    "\n",
    "    sampling_mode = infer_params.sampling_mode\n",
    "    hparamss = define_hparam_searchspace(infer_params)\n",
    "    results = find_best_model(xs, hparamss, sampling_mode)\n",
    "    hparams_best = results[0]\n",
    "    bf = results[2] - results[5] # Bayes factor\n",
    "    \n",
    "    return hparams_best, bf\n",
    "\n",
    "def run_trial(ix_trial, cond):\n",
    "    # 人工データ生成\n",
    "    data = gen_artificial_data_given_cond(ix_trial, cond)\n",
    "    b_true = data['b']\n",
    "    causality_true = data['causality_true']\n",
    "    \n",
    "    # 因果推論\n",
    "    t = time.time()\n",
    "    infer_params.L_cov_21s = cond['L_cov_21s']\n",
    "    infer_params.dist_noise = cond['model_noise_type']\n",
    "    hparams, bf = _estimate_hparams(data['xs'], infer_params)\n",
    "    causality_est = hparams['causality']\n",
    "    time_causal_inference = time.time() - t\n",
    "\n",
    "    # 回帰係数推定\n",
    "    t = time.time()\n",
    "    trace = do_mcmc_bmlingam(data['xs'], hparams, mcmc_params)\n",
    "    b_post = np.mean(trace['b'])\n",
    "    time_posterior_inference = time.time() - t\n",
    "    \n",
    "    return {\n",
    "        'causality_true': causality_true, \n",
    "        'regcoef_true': b_true, \n",
    "        'n_samples': cond['n_samples'], \n",
    "        'n_confs': cond['n_confs'], \n",
    "        'data_noise_type': cond['data_noise_type'], \n",
    "        'model_noise_type': cond['model_noise_type'], \n",
    "        'causality_est': causality_est,\n",
    "        'correct_rate': (1.0 if causality_est == causality_true else 0.0), \n",
    "        'error_reg_coef': np.abs(b_post - b_true), \n",
    "        'regcoef_est': b_post, \n",
    "        'log_bf': 2 * bf, # 2log(p(M) / p(M_rev))なので常に正の値となります. \n",
    "        'time_causal_inference': time_causal_inference, \n",
    "        'time_posterior_inference': time_posterior_inference, \n",
    "        'L_cov_21s': str(cond['L_cov_21s']), \n",
    "        'n_mc_samples': infer_params.n_mc_samples, \n",
    "        'confs_absmean': np.mean(np.abs(data['confs'].ravel())), \n",
    "        'totalnoise': cond['totalnoise']\n",
    "    }"
   ]
  },
  {
   "cell_type": "markdown",
   "metadata": {},
   "source": [
    "### メインプログラム"
   ]
  },
  {
   "cell_type": "code",
   "execution_count": 13,
   "metadata": {
    "collapsed": false
   },
   "outputs": [],
   "source": [
    "def run_expr(conds):\n",
    "    # データフレームファイル名\n",
    "    data_dir = '.'\n",
    "    df_file = data_dir + '/20160902-eval-bml-results.pklz'\n",
    "    \n",
    "    # ファイルが存在すれば以前の続きから実行します. \n",
    "    df = load_df(df_file)\n",
    "\n",
    "    # 実験条件に渡るループ\n",
    "    n_skip = 0\n",
    "    \n",
    "    for cond in conds:\n",
    "        print(cond)\n",
    "        \n",
    "        # トライアルに渡るループ\n",
    "        for ix_trial in range(n_trials_per_cond):\n",
    "            # 識別子\n",
    "            result_id = make_id(ix_trial, **cond)\n",
    "            \n",
    "            # データフレームに結果が保存済みかどうかチェックします. \n",
    "            if df_exist_result_id(df, result_id):\n",
    "                n_skip += 1\n",
    "            else:\n",
    "                # resultはトライアルの結果が含まれるdictです. \n",
    "                # トライアルインデックスix_trialは乱数シードとして使用されます. \n",
    "                result = run_trial(ix_trial, cond)\n",
    "                result.update({'result_id': result_id})\n",
    "                \n",
    "                df = add_result_to_df(df, result)\n",
    "                save_df(df_file, df)\n",
    "                \n",
    "    print('Number of skipped trials = {}'.format(n_skip))\n",
    "    return df"
   ]
  },
  {
   "cell_type": "markdown",
   "metadata": {},
   "source": [
    "## メインプログラムの実行"
   ]
  },
  {
   "cell_type": "code",
   "execution_count": 14,
   "metadata": {
    "collapsed": false,
    "scrolled": false
   },
   "outputs": [
    {
     "name": "stdout",
     "output_type": "stream",
     "text": [
      "{'data_noise_type': 'laplace', 'L_cov_21s': [-0.9, -0.7, -0.5, -0.3, 0, 0.3, 0.5, 0.7, 0.9], 'totalnoise': 0.5, 'b21_dist': 'uniform(-1.5, 1.5)', 'model_noise_type': 'gg', 'n_confs': 10, 'n_samples': 100}\n",
      "{'data_noise_type': 'uniform', 'L_cov_21s': [-0.9, -0.7, -0.5, -0.3, 0, 0.3, 0.5, 0.7, 0.9], 'totalnoise': 0.5, 'b21_dist': 'uniform(-1.5, 1.5)', 'model_noise_type': 'gg', 'n_confs': 10, 'n_samples': 100}\n",
      "{'data_noise_type': 'laplace', 'L_cov_21s': [-0.9, -0.7, -0.5, -0.3, 0, 0.3, 0.5, 0.7, 0.9], 'totalnoise': 1.0, 'b21_dist': 'uniform(-1.5, 1.5)', 'model_noise_type': 'gg', 'n_confs': 10, 'n_samples': 100}\n",
      "{'data_noise_type': 'uniform', 'L_cov_21s': [-0.9, -0.7, -0.5, -0.3, 0, 0.3, 0.5, 0.7, 0.9], 'totalnoise': 1.0, 'b21_dist': 'uniform(-1.5, 1.5)', 'model_noise_type': 'gg', 'n_confs': 10, 'n_samples': 100}\n",
      "Number of skipped trials = 0\n"
     ]
    }
   ],
   "source": [
    "df = run_expr(conds)"
   ]
  },
  {
   "cell_type": "markdown",
   "metadata": {
    "collapsed": true
   },
   "source": [
    "## 結果の確認"
   ]
  },
  {
   "cell_type": "code",
   "execution_count": 15,
   "metadata": {
    "collapsed": false
   },
   "outputs": [
    {
     "data": {
      "text/html": [
       "<div>\n",
       "<table border=\"1\" class=\"dataframe\">\n",
       "  <thead>\n",
       "    <tr style=\"text-align: right;\">\n",
       "      <th></th>\n",
       "      <th></th>\n",
       "      <th></th>\n",
       "      <th></th>\n",
       "      <th>correct_rate</th>\n",
       "      <th>count</th>\n",
       "      <th>time</th>\n",
       "    </tr>\n",
       "    <tr>\n",
       "      <th>model_noise_type</th>\n",
       "      <th>data_noise_type</th>\n",
       "      <th>n_confs</th>\n",
       "      <th>totalnoise</th>\n",
       "      <th></th>\n",
       "      <th></th>\n",
       "      <th></th>\n",
       "    </tr>\n",
       "  </thead>\n",
       "  <tbody>\n",
       "    <tr>\n",
       "      <th rowspan=\"4\" valign=\"top\">gg</th>\n",
       "      <th rowspan=\"2\" valign=\"top\">laplace</th>\n",
       "      <th rowspan=\"2\" valign=\"top\">10</th>\n",
       "      <th>0.5</th>\n",
       "      <td>0.78</td>\n",
       "      <td>100</td>\n",
       "      <td>69.391621</td>\n",
       "    </tr>\n",
       "    <tr>\n",
       "      <th>1.0</th>\n",
       "      <td>0.72</td>\n",
       "      <td>100</td>\n",
       "      <td>78.410007</td>\n",
       "    </tr>\n",
       "    <tr>\n",
       "      <th rowspan=\"2\" valign=\"top\">uniform</th>\n",
       "      <th rowspan=\"2\" valign=\"top\">10</th>\n",
       "      <th>0.5</th>\n",
       "      <td>0.81</td>\n",
       "      <td>100</td>\n",
       "      <td>71.408814</td>\n",
       "    </tr>\n",
       "    <tr>\n",
       "      <th>1.0</th>\n",
       "      <td>0.69</td>\n",
       "      <td>100</td>\n",
       "      <td>80.622005</td>\n",
       "    </tr>\n",
       "  </tbody>\n",
       "</table>\n",
       "</div>"
      ],
      "text/plain": [
       "                                                     correct_rate  count  \\\n",
       "model_noise_type data_noise_type n_confs totalnoise                        \n",
       "gg               laplace         10      0.5                 0.78    100   \n",
       "                                         1.0                 0.72    100   \n",
       "                 uniform         10      0.5                 0.81    100   \n",
       "                                         1.0                 0.69    100   \n",
       "\n",
       "                                                          time  \n",
       "model_noise_type data_noise_type n_confs totalnoise             \n",
       "gg               laplace         10      0.5         69.391621  \n",
       "                                         1.0         78.410007  \n",
       "                 uniform         10      0.5         71.408814  \n",
       "                                         1.0         80.622005  "
      ]
     },
     "execution_count": 15,
     "metadata": {},
     "output_type": "execute_result"
    }
   ],
   "source": [
    "import pandas as pd\n",
    "\n",
    "# データフレームファイル名\n",
    "data_dir = '.'\n",
    "df_file = data_dir + '/20160902-eval-bml-results.pklz'\n",
    "df = load_pklz(df_file)\n",
    "\n",
    "sg = df.groupby(['model_noise_type', 'data_noise_type', 'n_confs', 'totalnoise'])\n",
    "sg1 = sg['correct_rate'].mean()\n",
    "sg2 = sg['correct_rate'].count()\n",
    "sg3 = sg['time_causal_inference'].mean()\n",
    "\n",
    "pd.concat(\n",
    "    {\n",
    "        'correct_rate': sg1, \n",
    "        'count': sg2, \n",
    "        'time': sg3, \n",
    "    }, axis=1\n",
    ")"
   ]
  },
  {
   "cell_type": "markdown",
   "metadata": {},
   "source": [
    "## 回帰係数の大きさとBayesFactor\n",
    "$2\\log(BF)$を横軸, $|b_{21}|$（または$|b_{12}|$）を縦軸に取りプロットしました. $2\\log(BF)$が10以上だと真の回帰係数（の絶対値）が大きく因果効果があると言えるのですが, $2\\log(BF)$がそれ以下だと, 回帰係数が大きい場合も小さい場合もあり, BFで因果効果の有無を判断するのは難しいと言えそうです. 因果効果があるモデルと無いモデルとの比較も必要なのでしょう. "
   ]
  },
  {
   "cell_type": "code",
   "execution_count": 16,
   "metadata": {
    "collapsed": false
   },
   "outputs": [
    {
     "data": {
      "text/plain": [
       "<matplotlib.legend.Legend at 0x7f1737208b38>"
      ]
     },
     "execution_count": 16,
     "metadata": {},
     "output_type": "execute_result"
    },
    {
     "data": {
      "image/png": "[encoded data removed]",
      "text/plain": [
       "<matplotlib.figure.Figure at 0x7f1737268470>"
      ]
     },
     "metadata": {},
     "output_type": "display_data"
    }
   ],
   "source": [
    "data = np.array(df[['regcoef_true', 'log_bf', 'totalnoise', 'correct_rate']])\n",
    "ixs1 = np.where(data[:, 3] == 1.0)[0]\n",
    "ixs2 = np.where(data[:, 3] == 0.0)[0]\n",
    "plt.scatter(data[ixs1, 1], np.abs(data[ixs1, 0]), marker='o', s=20, c='r', label='Success')\n",
    "plt.scatter(data[ixs2, 1], np.abs(data[ixs2, 0]), marker='*', s=70, c='b', label='Failure')\n",
    "plt.ylabel('|b|')\n",
    "plt.xlabel('2 * log(bayes_factor)')\n",
    "plt.legend(fontsize=15, loc=4, shadow=True, frameon=True, framealpha=1.0)"
   ]
  },
  {
   "cell_type": "markdown",
   "metadata": {},
   "source": [
    "## 回帰系数の予測精度\n",
    "人工データの回帰係数をU(-1.5, 1.5)で生成した実験で, 回帰系数の真値を横軸, 事後分布平均を縦軸に取りプロットしました. 真値が小さい場合は因果方向予測の正解（赤）と不正解（青）に関わらず事後分布平均が小さくなっています. 一方, 正解の場合には回帰係数が小さく, 不正解の場合には回帰係数が小さく推定される傾向があるようです."
   ]
  },
  {
   "cell_type": "code",
   "execution_count": 17,
   "metadata": {
    "collapsed": false
   },
   "outputs": [
    {
     "data": {
      "text/plain": [
       "<matplotlib.text.Text at 0x7f1737616470>"
      ]
     },
     "execution_count": 17,
     "metadata": {},
     "output_type": "execute_result"
    },
    {
     "data": {
      "image/png": "[encoded data removed]",
      "text/plain": [
       "<matplotlib.figure.Figure at 0x7f18260d5c88>"
      ]
     },
     "metadata": {},
     "output_type": "display_data"
    }
   ],
   "source": [
    "data = np.array(df[['regcoef_true', 'regcoef_est', 'correct_rate']])\n",
    "ixs1 = np.where(data[:, 2] == 1)[0]\n",
    "ixs2 = np.where(data[:, 2] == 0)[0]\n",
    "assert(len(ixs1) + len(ixs2) == len(data))\n",
    "\n",
    "plt.figure(figsize=(5, 5))\n",
    "plt.scatter(data[ixs1, 0], data[ixs1, 1], c='r', label='Correct')\n",
    "plt.scatter(data[ixs2, 0], data[ixs2, 1], c='b', label='Incorrect')\n",
    "plt.plot([-3, 3], [-3, 3])\n",
    "plt.xlim(-3, 3)\n",
    "plt.ylim(-3, 3)\n",
    "plt.gca().set_aspect('equal')\n",
    "plt.xlabel('Reg coef (true)')\n",
    "plt.ylabel('Reg coef (posterior mean)')"
   ]
  },
  {
   "cell_type": "markdown",
   "metadata": {
    "collapsed": true
   },
   "source": [
    "### EPSで出力"
   ]
  },
  {
   "cell_type": "code",
   "execution_count": 18,
   "metadata": {
    "collapsed": false
   },
   "outputs": [
    {
     "data": {
      "image/png": "[encoded data removed]",
      "text/plain": [
       "<matplotlib.figure.Figure at 0x7f17371c4d30>"
      ]
     },
     "metadata": {},
     "output_type": "display_data"
    }
   ],
   "source": [
    "data = np.array(df[['regcoef_true', 'regcoef_est', 'correct_rate']])\n",
    "ixs1 = np.where(data[:, 2] == 1)[0]\n",
    "ixs2 = np.where(data[:, 2] == 0)[0]\n",
    "assert(len(ixs1) + len(ixs2) == len(data))\n",
    "\n",
    "plt.figure(figsize=(5, 5))\n",
    "plt.scatter(data[ixs1, 0], data[ixs1, 1], c='r', label='Correct')\n",
    "plt.plot([-3, 3], [-3, 3])\n",
    "plt.xlim(-3, 3)\n",
    "plt.ylim(-3, 3)\n",
    "plt.gca().set_aspect('equal')\n",
    "plt.xlabel('Reg coef (true)')\n",
    "plt.ylabel('Reg coef (posterior mean)')\n",
    "plt.title('Correct inference')\n",
    "plt.savefig('20160905-eval-bml-correct.eps')"
   ]
  },
  {
   "cell_type": "code",
   "execution_count": 19,
   "metadata": {
    "collapsed": false
   },
   "outputs": [
    {
     "data": {
      "image/png": "[encoded data removed]",
      "text/plain": [
       "<matplotlib.figure.Figure at 0x7f17378fe828>"
      ]
     },
     "metadata": {},
     "output_type": "display_data"
    }
   ],
   "source": [
    "plt.figure(figsize=(5, 5))\n",
    "plt.scatter(data[ixs2, 0], data[ixs2, 1], c='b', label='Incorrect')\n",
    "plt.plot([-3, 3], [-3, 3])\n",
    "plt.xlim(-3, 3)\n",
    "plt.ylim(-3, 3)\n",
    "plt.gca().set_aspect('equal')\n",
    "plt.xlabel('Reg coef (true)')\n",
    "plt.ylabel('Reg coef (posterior mean)')\n",
    "plt.title('Incorrect inference')\n",
    "plt.savefig('20160905-eval-bml-incorrect.eps')"
   ]
  }
 ],
 "metadata": {
  "kernelspec": {
   "display_name": "Python 3",
   "language": "python",
   "name": "python3"
  },
  "language_info": {
   "codemirror_mode": {
    "name": "ipython",
    "version": 3
   },
   "file_extension": ".py",
   "mimetype": "text/x-python",
   "name": "python",
   "nbconvert_exporter": "python",
   "pygments_lexer": "ipython3",
   "version": "3.5.2"
  },
  "nav_menu": {
   "height": "12px",
   "width": "230px"
  },
  "toc": {
   "navigate_menu": true,
   "number_sections": true,
   "sideBar": true,
   "threshold": 6,
   "toc_cell": false,
   "toc_section_display": "block",
   "toc_window_display": true
  },
  "toc_position": {
   "height": "890px",
   "left": "0px",
   "right": "1414px",
   "top": "106px",
   "width": "359px"
  }
 },
 "nbformat": 4,
 "nbformat_minor": 0
}
